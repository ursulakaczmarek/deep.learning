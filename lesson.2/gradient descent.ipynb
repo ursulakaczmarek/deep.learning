{
 "cells": [
  {
   "cell_type": "markdown",
   "metadata": {},
   "source": [
    "#### intro to gradient descent\n",
    "fully connected neural networks are a sequence of matrices that map input vectors to output vectors by multiplying the matrices (layers) by intermediate vectors (activations). fitting these matrix products requires that we adjust the weights, or values of the matrices, so that when the input vectors pass through the matrices, we get predicted output vectors close to the true output vectors. \n",
    "\n",
    "we start with random weight values and use an optimization algoritm to get close to target output vector *y*. we initialize the matrix weights either manually (such as Xavier: var(weights) = 2/n<sub>in</sub> + n<sub>out</sub>), or with a deep learning library. the optimization algorithm first discussed in the fast.ai deep learning course is gradient descent. there are two flavors of gradient descent: standard and stochastic."
   ]
  },
  {
   "cell_type": "code",
   "execution_count": 1,
   "metadata": {
    "collapsed": true
   },
   "outputs": [],
   "source": [
    "%matplotlib inline"
   ]
  },
  {
   "cell_type": "code",
   "execution_count": 2,
   "metadata": {
    "collapsed": true
   },
   "outputs": [],
   "source": [
    "import math, sys, os, numpy as np\n",
    "from numpy.random import random\n",
    "from matplotlib import pyplot as plt, rcParams, animation, rc\n",
    "from ipywidgets import interact, interactive, fixed\n",
    "from ipywidgets.widgets import *\n",
    "rc('animation', html = 'html5')\n",
    "rcParams['figure.figsize'] = 3, 3\n",
    "%precision 4\n",
    "np.set_printoptions(precision = 4, linewidth = 100)"
   ]
  },
  {
   "cell_type": "markdown",
   "metadata": {},
   "source": [
    "stochastic gradient descent iteratively selects parameters (weights) to reduce the loss function, that is, the method of calculating the difference between the predicted outputs and the true outputs. to illustrate, we start with sum of squared errors as the loss function.  "
   ]
  },
  {
   "cell_type": "code",
   "execution_count": 3,
   "metadata": {
    "collapsed": true
   },
   "outputs": [],
   "source": [
    "# start with a line of unknown parameters\n",
    "def lin(a, b, x): return a*x+b"
   ]
  },
  {
   "cell_type": "code",
   "execution_count": 4,
   "metadata": {
    "collapsed": true
   },
   "outputs": [],
   "source": [
    "# create parameters to start\n",
    "a = 3\n",
    "b = 8"
   ]
  },
  {
   "cell_type": "code",
   "execution_count": 5,
   "metadata": {
    "collapsed": true
   },
   "outputs": [],
   "source": [
    "# randomly generated weights as matrix elements\n",
    "# a powerful concept: starting with completely random weights yet finding a solution through iteration\n",
    "n = 30\n",
    "x = random(n)\n",
    "y = lin(a, b, x)"
   ]
  },
  {
   "cell_type": "code",
   "execution_count": 6,
   "metadata": {},
   "outputs": [
    {
     "data": {
      "text/plain": [
       "array([ 0.2278,  0.8118,  0.7782,  0.5558,  0.0277,  0.1952,  0.325 ,  0.0509,  0.7321,  0.1641,\n",
       "        0.506 ,  0.6623,  0.1484,  0.3603,  0.2467,  0.6473,  0.4571,  0.9375,  0.6178,  0.0699,\n",
       "        0.8244,  0.8855,  0.9022,  0.6692,  0.1832,  0.9746,  0.3896,  0.7423,  0.8629,  0.1681])"
      ]
     },
     "execution_count": 6,
     "metadata": {},
     "output_type": "execute_result"
    }
   ],
   "source": [
    "x"
   ]
  },
  {
   "cell_type": "code",
   "execution_count": 7,
   "metadata": {},
   "outputs": [
    {
     "data": {
      "text/plain": [
       "array([  8.6833,  10.4354,  10.3345,   9.6674,   8.0831,   8.5856,   8.9749,   8.1527,  10.1963,\n",
       "         8.4924,   9.518 ,   9.9868,   8.4452,   9.081 ,   8.7402,   9.9418,   9.3712,  10.8125,\n",
       "         9.8535,   8.2096,  10.4732,  10.6565,  10.7067,  10.0076,   8.5495,  10.9237,   9.1687,\n",
       "        10.227 ,  10.5888,   8.5044])"
      ]
     },
     "execution_count": 7,
     "metadata": {},
     "output_type": "execute_result"
    }
   ],
   "source": [
    "y"
   ]
  },
  {
   "cell_type": "code",
   "execution_count": 8,
   "metadata": {},
   "outputs": [
    {
     "data": {
      "text/plain": [
       "<matplotlib.collections.PathCollection at 0x7fdb190f2550>"
      ]
     },
     "execution_count": 8,
     "metadata": {},
     "output_type": "execute_result"
    },
    {
     "data": {
      "image/png": "[encoded data removed]",
      "text/plain": [
       "<matplotlib.figure.Figure at 0x7fdb1b588090>"
      ]
     },
     "metadata": {},
     "output_type": "display_data"
    }
   ],
   "source": [
    "plt.scatter(x, y)"
   ]
  },
  {
   "cell_type": "code",
   "execution_count": 9,
   "metadata": {
    "collapsed": true
   },
   "outputs": [],
   "source": [
    "# define our loss function: sum of squared errors\n",
    "def sse(y, y_pred): return ((y-y_pred)**2).sum()\n",
    "def loss(y, a, b, x): return sse(y, lin(a, b, x))\n",
    "def avg_loss(y, a, b, x): return np.sqrt(loss(y, a, b, x)/n)"
   ]
  },
  {
   "cell_type": "markdown",
   "metadata": {},
   "source": [
    "we want to minimize this averaged loss function value. our linear regression function has two \n",
    "numerical inputs: the *x* elements that represents the matrix values, and the *a*, *b* parameters we\n",
    "specified above. we cannot change the matrix values, so we want our gradient descent optimizer to \n",
    "choose parameters that minimize the loss function value. "
   ]
  },
  {
   "cell_type": "code",
   "execution_count": 10,
   "metadata": {},
   "outputs": [
    {
     "data": {
      "text/plain": [
       "9.0959"
      ]
     },
     "execution_count": 10,
     "metadata": {},
     "output_type": "execute_result"
    }
   ],
   "source": [
    "# the average loss is high if our guesses are bad, low if our guesses are good\n",
    "a_guess = -1.\n",
    "b_guess = 1.\n",
    "avg_loss(y, a_guess, b_guess, x)"
   ]
  },
  {
   "cell_type": "markdown",
   "metadata": {},
   "source": [
    "gradients are vectors that represent how the loss function changes with respect to each parameter. \n",
    "gradient descent entails iteratively calculating the partial derivative of the loss function with respect to each of our parameters and updating the parameters in the direction opposite that derivative. if the derivative of *a* is positive, increasing *a* increases the loss function. we get a positive gradient, so we want to move in the opposite direction by decreasing *a*. likewise, if the derivative is negative, the loss function decreases with each increase in *a* so we want to continue increasing *a*. in both cases, we want to move in the direction opposite the derivative.\n",
    "\n",
    "gradient descent updates parameter values until it reaches parameter values that can no longer decrease the loss function value. this is the local minimum. \n",
    "\n",
    "the size of each of the algorithm's updates is the learning rate. high learning rates cover more ground more quickly, but have a higher risk of overshooting the local minimum. with lower learning rates, the algorithm more frequently takes steps (looks for negative gradients), thus increasing precision but at the expense of speed. "
   ]
  },
  {
   "cell_type": "code",
   "execution_count": 11,
   "metadata": {
    "collapsed": true
   },
   "outputs": [],
   "source": [
    "# define our learning rate as a little step \n",
    "# generally want the highest number we can get away with\n",
    "lr = 0.01 "
   ]
  },
  {
   "cell_type": "code",
   "execution_count": 12,
   "metadata": {
    "collapsed": true
   },
   "outputs": [],
   "source": [
    "# define our function for updating weights\n",
    "# del[(y-(a*x+b))**2, b] = 2(b +a*x -y) = 2(y_pred - y)\n",
    "# del[(y-(a*x+b))**2,a] = 2 x (b + a x - y)    = x * dy/db \n",
    "def update_weights():\n",
    "    global a_guess, b_guess\n",
    "    y_pred = lin(a_guess, b_guess, x)\n",
    "    dydb = 2 * (y_pred - y) # as b increases one unit, sse changes by 2 * (y_pred - y)\n",
    "    dyda = x * dydb # as a increases one unit, sse changes by x * dydb\n",
    "    a_guess -= lr * dyda.mean()\n",
    "    b_guess -= lr * dydb.mean()"
   ]
  },
  {
   "cell_type": "code",
   "execution_count": 13,
   "metadata": {
    "collapsed": true
   },
   "outputs": [],
   "source": [
    "fig = plt.figure(dpi=100, figsize=(5, 4))\n",
    "plt.scatter(x,y)\n",
    "line, = plt.plot(x,lin(a_guess,b_guess,x))\n",
    "plt.close()\n",
    "\n",
    "def animate(i):\n",
    "    line.set_ydata(lin(a_guess,b_guess,x))\n",
    "    for i in range(10): update_weights()\n",
    "    return line,\n",
    "\n",
    "ani = animation.FuncAnimation(fig, animate, np.arange(0, 40), interval=100)"
   ]
  },
  {
   "cell_type": "code",
   "execution_count": 14,
   "metadata": {},
   "outputs": [
    {
     "data": {
      "text/html": [
       "<video width=\"500\" height=\"400\" controls autoplay loop>\n",
       "  <source type=\"video/mp4\" src=\"data:video/mp4;base64,AAAAHGZ0eXBNNFYgAAACAGlzb21pc28yYXZjMQAAAAhmcmVlAABUBm1kYXQAAAKuBgX//6rcRem9\n",
       "5tlIt5Ys2CDZI+7veDI2NCAtIGNvcmUgMTQ4IHIyNjQzIDVjNjU3MDQgLSBILjI2NC9NUEVHLTQg\n",
       "QVZDIGNvZGVjIC0gQ29weWxlZnQgMjAwMy0yMDE1IC0gaHR0cDovL3d3dy52aWRlb2xhbi5vcmcv\n",
       "eDI2NC5odG1sIC0gb3B0aW9uczogY2FiYWM9MSByZWY9MyBkZWJsb2NrPTE6MDowIGFuYWx5c2U9\n",
       "MHgzOjB4MTEzIG1lPWhleCBzdWJtZT03IHBzeT0xIHBzeV9yZD0xLjAwOjAuMDAgbWl4ZWRfcmVm\n",
       "PTEgbWVfcmFuZ2U9MTYgY2hyb21hX21lPTEgdHJlbGxpcz0xIDh4OGRjdD0xIGNxbT0wIGRlYWR6\n",
       "b25lPTIxLDExIGZhc3RfcHNraXA9MSBjaHJvbWFfcXBfb2Zmc2V0PS0yIHRocmVhZHM9NiBsb29r\n",
       "YWhlYWRfdGhyZWFkcz0xIHNsaWNlZF90aHJlYWRzPTAgbnI9MCBkZWNpbWF0ZT0xIGludGVybGFj\n",
       "ZWQ9MCBibHVyYXlfY29tcGF0PTAgY29uc3RyYWluZWRfaW50cmE9MCBiZnJhbWVzPTMgYl9weXJh\n",
       "bWlkPTIgYl9hZGFwdD0xIGJfYmlhcz0wIGRpcmVjdD0xIHdlaWdodGI9MSBvcGVuX2dvcD0wIHdl\n",
       "aWdodHA9MiBrZXlpbnQ9MjUwIGtleWludF9taW49MTAgc2NlbmVjdXQ9NDAgaW50cmFfcmVmcmVz\n",
       "aD0wIHJjX2xvb2thaGVhZD00MCByYz1jcmYgbWJ0cmVlPTEgY3JmPTIzLjAgcWNvbXA9MC42MCBx\n",
       "cG1pbj0wIHFwbWF4PTY5IHFwc3RlcD00IGlwX3JhdGlvPTEuNDAgYXE9MToxLjAwAIAAABOyZYiE\n",
       "AD///vdonwKbWkN6gOSVxSXbT4H/q2dwfI/pAwAAAwAAAwAkAvzHv6EHQzQgAABQic/gsldNQVEG\n",
       "rVWJETueZW6CveofCONurjKq1mcfZ0P89EfiowXffzerReILorurz0Hw00X7IHiVKxzwYDZD0QxJ\n",
       "mjjow9WXmubobDkAApf9aNhhfJU2AQ6qguafcLYmXj4pALPQaOcGWFcOd7oMwvizhGh+gyk1maOI\n",
       "1Q+WUAe/5xa+2eCWNPyr7xnWe7k16P62baDDlWIuU9ilHv7eeNMd8HPjUWFgbK3EFiQgDSqowqTx\n",
       "nAj3HqFlhP2SYZ2GMiiwdoQul+IZdnmko+4AGbjG1UhU5p+IAzvUnUPum8UnQlum9pbb/g0ZzUBb\n",
       "A1itXVb17YsYNpEYEBkj8+p9U+Xs7byhMZQpjKgDyBq/IEbMVdp+Stc9AT+ogJAI9d7P1swCoAEl\n",
       "47017m3VvX7jGP2ixJLhGXm0M62IOi6xychpepMQOf+lbbHPnHKpipoY+9UzO//477VTo04QPOQ+\n",
       "/iqcf5+oZqKjCGlNy6F5kA9C/pPzcZ65CZI34TCDtfPVLaVkLYTz20hei7NMvfcUgLP7viySflE8\n",
       "cav4VVF4LexiuUyRAR33FeY0I4nU0TOgMyap33Lwiz44/yRD+ft91oTCaGr1vZtWpOeVrYueetmk\n",
       "rExOMu4JmuF72+DqOotHAaeQ9RajQGN36a76FvcI+9pFTj8ZVJrHBa/QLfGmM7COtnEhEFhyoBwS\n",
       "ZL08JLdxr21OzCUo/vG8TtsW1gk7eiXL9m9vGJz/cldfHwUPG7PVAS+FXASIgmjMVYitCplqYFJt\n",
       "6BejeV+3DdEQkPCSmy4I7dMna8y4Iowk6kwbZzizwgI4wrUbW4mcG0h547K5vCKGsFlEbcTfyerN\n",
       "EITvXBAZzHVlHOravYusiBA2qSuXPlcaZYYH77Qbl8oaWoVZiDxo8j6RYUAa26xMMm37uNbiK+A6\n",
       "wVAGU204YYyP72xId/mhZnZpXjmxlVEyFCdTt2G9QT/rSNk75BaQENMgK17KRefE06Yb92AdUXcY\n",
       "PFCot19g7DjYWT3XjQpYg1HUj1x19IFz1xoDrPsXWrquCaH8vg7dVnbgRINP2OeFX9kugwBekKSg\n",
       "5uYuQ/FOg+Uuo3CFDMEoquPqvQy+DHWnWYwEsaI8xt5mlTAbQbKtAWh5Gn/2ztmFJ/lyRsCi2xjc\n",
       "3Wq1+Zt4Vpb462Mdj+IMgCdE6sO+/cBDYdVgdNf+kh/wumUk1U1BzvC9fTYwv7mFmoWQiriD6MDB\n",
       "oyIx0VmfkLziFVMv6GuiPfjID8DUUMzFHLzj9bFbJnKkZCWZG5buDJr2MrRZ3zkOijox/+32puo5\n",
       "Tu069w5QV+QZOLG89cqxV9/cICtwdLKdVDhMw8V+IghXZadQAAAjfhhSnAa8xeteD4VICJmgumVK\n",
       "dfcslOZ2zYgOHn9yXCCV/85z0im5NYcwbweFPDtcDcytEWldP5ncG3RRD6IbVspjFxx+8XKX5Nzu\n",
       "n3Ge0P0sXVUaDIk6wzLtycqLkHIlB8aSb/sEHJxrWAA2rzGlTZRF9o12qZnPBDsj6qzlEiBlZ+Na\n",
       "85UbdcrQyWP7vKGhH3NYFF1eNQF0E0gjP0tdW6hddXt5KcleWrXcRsZLEushLw87eMBcCjkkBrfq\n",
       "dcCqurkihWjru5FPCZOLHn27wIroMhgYrME4dGmlc0zvVFbsDUF03rZtiIwm3JhQxTo3fvb5MbJH\n",
       "gW8sSXOL/sZGpcjgvMm0N/Ie8/53va3rygM2R+mWdLCiNCIcy47VPp1l6DPqfBVbbcK/18+TJ+tF\n",
       "EPJiJ3yuHdH3YjvM9VUPvWwirikgV9uxLstWa7D91wfr4azzh+J/aAuh2Eim3AF+FlsbQqnvIrcf\n",
       "ClsFWxp8TineepEMMbEXqzs60DUyqtMJ2++PlI7NAd/Zn0Ga4HBajf18Iqhbr9J3nAjw/MF3f97m\n",
       "xYgDWesiLXytHys2/CJgHpLXB1TXASvPYh6MX6oBmks0DcWBBYZK3ueUmPd7lp6t8onKXDf/poIk\n",
       "y5kXYO95GXO0um5ploRo/spQuDDCgY8WvmcgCMqkf26DVPIhTkAWuR87mB1mIGjOst3MljD/sxn9\n",
       "fY+TMPzwJbj3nGKEgMcAn6giibGekyh88XuVdknhDNAzR+NrjnT5lahQGXv0CALy48p0Ni7MZsT+\n",
       "Q1jeQ7CXf72mAn6+zpNe9EUURMdlxV3b39tjE3m2K0n7n4oAS/LdAMb1T+x0MO++DQsGBLsCLXb3\n",
       "c2HyTBG4T9CiYt16QjJbfBH3MF9/Y+CKXdderFrx49uaoEb2gCbPa1oPcVTcZKxB8y2/izCxyGQE\n",
       "iwy7biIahTCeG3yrl5pxWj+idCZypSMDPhNCcD5egs292SGb555EyeFDaMBc3jah3c3m0QJjobiT\n",
       "oIFN6fDTZHiI5sv8XJBiCU9YJwnlo2XjfeGFwGzeyP9Zv80CLSitilPQyMEmK9Nl0IglaCepXuJn\n",
       "Y6tsvJLXA4xLlwCJ9rcqgfMvoZAh/n2vp+edP7ftx+TCllWHHIR9wHeYrm3ZyyPIdNCMVDDzKJal\n",
       "zlfoaRAbSHXio2RiOytlVbdK//k9EG+/TMUQRyl7kXC4R/Sky7w2027450/G8wumjvY6cPOmMP1x\n",
       "K68rqfQEzs75PADnZ+FZEbUy4q9YptSDjiDVx8w7zE/KhDuidvFGSHMBIXSm7RZo6msfzYZDRjIa\n",
       "KJ0/+/fjuEQaXqOEM8cTgwPYygjSWluGIfN3RMbhz5dU5WYQ3OIUqfIVO1HiNvaoV6gnw2xO5yve\n",
       "QkBBeGLT9uqIoJdN6PiwtWWtXs+Q7XdvkvKKQX+T73pWw+3ywDhpUn7QmXlAXZdWRCW5cFf0E3p3\n",
       "tSSwibXJvVk3iSB1xerrQM0oMQbk5mnXjHMnSEhCH76KeQpVs+PEPoNh0kvJcPte4w79qfp95h7U\n",
       "T9NU3JJgCw3vZY87LZNg0cKkaNwDeA2FhTfyp6c02hFFe/oG3Fz/+BelOyrQuW4HJW45x4r6MBjW\n",
       "6ehIId6HE6vFw0m7K6n5/6DpvpIbS9XgvmXPyAoXPGwbSFGogrK143lu+SWj4BgwrUYLkgouGKPC\n",
       "YigEsHE+9lfFQJjG/iqjBvBBfvaxOuQX5gdkWDPDEESbJgQfggZqCnWmA4qr/k+uIDmBq2qyJ7f5\n",
       "oC9cJGlqQ5VPT821E0hmN9yWI+OmRdRBt8OZDJzYq1UKRQVXnB0GD/Czj+rAGowMkcDtAGFoz3N7\n",
       "I3zrxajw5Vo/lv0OxbG/x7fS2HofP1rx09n3+VfnGKt9yABY58gkiCi6RFLvYT5XSgsrytgxrOrk\n",
       "YrewOUBGc4MPdlfC2zta9U0C3I7wPnLcwcww2zMmb/ZqtS7AYeb2an5AYrBEXKqRdjJ8wwhmEpzN\n",
       "IpEBbSFMZEk8CIcYqFpL0YX7puwhyNcvn/5MQfc+CyTGncCsKTFiguVpFmDUY5rgMlVL23wzvcQM\n",
       "iqumTC/KoNb1k1782tlG1VIEUihqaqJS2rbMStCv+pIQzFbkqdaVbWUfY5XI6/siFuYbHGGVT3OL\n",
       "BR4ClXiO2R6OZqWeVTnPindO2sz4EYCk/f+2K00ZenIytHeotv+NbSR/tAIs8bDHE8C3BhsaDyl8\n",
       "e3FGUCjrp+F7dZ6X8eIQMF9sVXoizTji1GB4du8J7upEVHmrG5KWdV0OFa0P1GI1hKV+yWdo9TOc\n",
       "jFO5NPfLBzmb2uz3Rec7Zn5VnEF1Eb72lEt9VpC5lipyigk2nylSf1CAQIEKV0R+ewHG0KppwSLK\n",
       "paPfqbT8QnvB0ig7DFn19WI7BTLWCkh3CmYLg7pH8v6/qd3w4BIrzc1ot78xV5wwnh+ErDpqWer5\n",
       "XHLgXGswlgVk4v6c36ZSE1N0R1U9JzK5PBH/iLie0cXFc5vPYBTG0v/P7Hvf5TX293zfaTUERMpN\n",
       "FVjWVOXRRiNLA2wLCsAOYBD+rjoJlfgBMUFDdi0V/ZxYf8dVE8MhRlz+9ygI3XYyYl9ZY2apM+gx\n",
       "wzpD1KlYFPYzLrAZ3vW0rQwokOJt4gXUsBNx5NsfQ/vLMsEWhmooCKWhx5kszF+/orPHusxm9E4K\n",
       "rRRo7zr6SqV1e67rwg/Fauq62G80/fUNEZGfM/AEDXEqdqUGisCnAFv9/ntllymWwnKYcLvf4Sr6\n",
       "5N5cqdgR3dMZjsEXVMDgD0vjVZy88rMnr6sBFkdNKwIkQT1AeGCwpEVZZNAy9XaVH+Lf9shS41zH\n",
       "+S1YqL1dqmSN/TDmvkHT8CRQith3T51LBMHuP+1vO6BtRxcYB+rY7QRKpbSLagHDofx492J3PyWA\n",
       "23PDJA/NYSei91hjfs1WcybrZqTQybr/7RSmxB6eyPHgbnJKVRvlmsW/7GRT1Mo2s9dUl/1ZuV70\n",
       "WtALIkrAmb49PXpz2nUvSr6/HrvH1/aAB7xCKBUpnSOe8jrOGpcPj5ULqbECwTNAPzOSJ1TtckuO\n",
       "+eUX9z1733BSkKzV1DctpN7nIPAvOklrl3MICjDBSIKyh7srpZYVYicroFerv1LD6VbXN0jR5IxB\n",
       "Q/qYblYJOMIvUS6BdMNroFA9+d70QUXtBeRYuxpTSJqCq8ruiG2GFTSKHZART60FGzQJ2yY37sE9\n",
       "3eqaN7fwEBCM7xgjYADYf3ik4Ly3Yw/G90kXUNyZXp/Ih5k1MbBqd8xBerZvPZmB5gNTejU/9b/V\n",
       "7Sg+1RtzJGTcFB/YPMiDsVppZVdBS0xEckn8Q72PMi6fflejIDwUrSrEGAQpOGmq8Nt4IWXza5sf\n",
       "G5prYa8bKRW6BCcAAAXEANT0f76cnlsp4jtVH59lS9lOJcBK+49aR8gAwNSqiBumlgvRDRTzemxD\n",
       "8EQIcAbdHyaXcDfA84OtYyYWYpF3tf6VoVBQFPTwqYn8FXNGqWeWKOK2sxnZPVBMex5/6t9nhFvP\n",
       "+L3FZ8elS62dcF5g6loVYUddUxe1o8eMVf6mrXBA8N1Z8zfRzHivTNNXDchpzVH/GR+JqgiNUj8R\n",
       "7YgxpiRwiJahOBCMMisiWH7MpxoirjEN251cNNRPukFE0ifTBCpaox8Y+92ZlLptdJiLbxJICNgN\n",
       "BXqVU6QRKTgdBKnY7crDrP3YawvYd1r7CIhHR/BwdfXHnxlVSqZNikCaaznxc+eMbalAqu/kxxDA\n",
       "DGxqEEAcwljsGggOdqp7fhqXV1yTVYSudaHqzXLvnD+XV2KANRAL4oyXhZhcK9n+cAmMsERignn9\n",
       "+emucRflRz9CQ3fcjYZ3/GS936UrK8Xv1SQfPJ8eBX8CB/hCtLp9NN7UIZzdDump1hhlvCDYgU6l\n",
       "yl7GEZpzLnUBETRVP6MIXHCOfN72jm+0pOLS2l0R4bLtdBJZJd30gFg+6v+73gsN6dOCCyVB/0+n\n",
       "VZF1zhb0+KZteHCLMbXPIqY9J1NBw8IQjpSar8J9vwmiXwX84Q5VU2reiVa/wupVXt4C4m9wyN/L\n",
       "Mce3icu2VVrOqpkGs1tPAb8ushpQfRZQoW0aj90Wx4a9OjN87dEyXDqzn+pppByHtNeAaqAlyGzQ\n",
       "bbHK8KulP8J8PcxbxyLLTfAh+BiF6defGm3LLmokOMEXIqtGQuwbN4Eq9AT+izNAmgb/m+FCUHgU\n",
       "hAU7YoQ4/1YXRh86iAkboF75cFniUSId7Wo0QnzPJUU4r9xCHZByZ1Fn5eEPO10tPv2UceDoUFSf\n",
       "sn3c8XXNTb6FuEJ1Q0YiZmKr6ImKonRO7VLbOSIIzv2k+FNyP3eD1rs4VWJZIELn795C9eCxeCNL\n",
       "pTJhFa2sA70Y6Dtv4y7qh4cYq9hGFZigEBkgmSZp8ILaxEjMKx+/JHVNJdxQJdfJ+BizvTZmy7zb\n",
       "erpgLAlsl0yoHea8UqwpZDuy5jN6oMVwsHiVKxtDiyz3et9okPPySPXj7bKRtvQUi4GZ+A4J9Tfh\n",
       "lJMDmj3TvnIU8IIP/kJzO2RtoXY/XgwbIulmyQoQyq2iFiVvb9l3iVjRiuylkBheP7p2Nxsm6kfP\n",
       "P632D2SirHd9/R2phUoE+eJh6JFn4xzUU5rCyWsazMMMavUi+JVXJnvsAyvdj5EsN9Fkt8yLJpCd\n",
       "9jN/KOulvbmkg3lgB21dnq6UPzJwOq4qgAOAFU3WGAs81p9et5kSjLtPwqwuw9VOzd3oIBRN54IU\n",
       "sBSdRr8Gv93pNN/WSun4HBbO4yJkp/lntDL1/tcB5mltRYrq0aoElN7dIwUqLkgazZeOHkgDIXVp\n",
       "69O2l46AD9ZM5tP3lQjp7vbrNI3uwKI4ZBVJ9qw83IsHl5ipeABatiMph7GH0px7v3EgUjugnfnL\n",
       "GR6MYd27uIL03pcRwx/PNjjMm+v+ItzuDiRsXJcNM14o3FHllzfG2WnokeVOyWGNtSyXMYGFEvTN\n",
       "dOSjvdL6VMm1LBvWx8SL09F3UwuCJt7+Kn9+aqlmPbK4cJb5VgZT6n/vA0IcLsdJrxwwYDN+veZM\n",
       "X+L3WRwWwAHNN3BMCiC1HAe1T9cKueahWf52VbCSyK7/VmVFQYbjhC3/td94yANnoGsCI0o3weQB\n",
       "Jpeaeamy3eOJF8+Fb7dIzkpUPg/kRhg89MRKPCcDXWY2eQoqTPehguys47F31MNG+wNOhxMPWs3u\n",
       "ZkiQAgj98QaB04gL1lzVBlC35vFfn7NuWAdV9dnpj6pvP+pg7wKGZnYNKGPj+qMpqp7JKJv+62Di\n",
       "IU1L73lNNpw+XzQtZ2Row7u30AAAQsEAAAIrQZohbEP//qmWACpiZegDapb+uHuC8WFR9pImLWpf\n",
       "ABCCvifLk7bEZ+3Kd/Fuw8e8p2Kxqd0SF8sNKP/y54QudHljy4RzyaAJsLsQt9jk3cSStFmtoFgD\n",
       "kxxZu5/7g4dfDV3C7Y74M6ERDqT4NRUUuSnB9H9oe4exhIC9E3nNzJSRwE4MemOqm5b8CGbolyng\n",
       "C5rZDWdG0H3eje82VwTKmilk0Dz/oAP0hzpJM9XqmkJLtLhMLcXB+X3D4HPmcGW6gjlT2odrAQpP\n",
       "UYOw4BN+wFtb1yZNJazZgkKSk88kjp0Vm+yRIKcLsbyh+CDGbHB9NafY/7AvaCzIo7Up0hjr2F+8\n",
       "PqGaSCsWvp1veUS9cY1cinIfGBljuYBIyH2OlF05AnA1qwFKjI/4uS7Lv/1/5TFznP+7gCUz1GYJ\n",
       "vAdjE+R2Fq39WfG4V/qZLJ6dXDfL+048j2YzWobBR2g1wCV6CN34ppxYD51ulfxSdVV7cBaZwXsP\n",
       "JDaQkjPPRfKfEO5DZQ+69DjfmmJttPA+Vc7gvOhUDetErTTRhNATV6NQIqW0plR4SBbN1esPhB4n\n",
       "6uB5eWBmiGyE1gH/w/mmvMvbUZBbdSgm0WbWLHEtKsVHTSH2Dj+3sjmayEEetTCL3Woq2RkcO2h5\n",
       "gT6mwjLydthLjJaLz4HZgaYXsCI9Uq08pYK9VSnq4VGkMxbDiwAAAwAAtgAAAwBZmkqgHc4mf56A\n",
       "oM3fzb/+gZxKiw9AAAADFkGaQjwhkymEP//+qZYACMJtET86PqWMnbn8FJCABdV2BOiOruxe0Bd7\n",
       "YZnejW2TWIcgadui/mQ7+VBGeqRUDeKur0RwhiYnzHk2Sca0vARWZdOYM4NrpgDU79cfPjORF+xS\n",
       "/FeREhfynZnkf/096TbYOQnlBMkVTNj04mMU7RIVEQ5HCA7rSjKYPkhd/HKqv90licBDPxTn4XSt\n",
       "oqxhxBJFJ/niLXS/jYQeX7jSbz1NxPYlsD/4IQggjQUDLN6YqQBW/uqALeLmxZJdPQn4T0boj84l\n",
       "bmy42x02l8buUdztCg1LB/LeRCWH14CaqlYnkOUdKsnKJEO1M68lbDVgXLpkONgUXKsveapXMg1P\n",
       "9vaMw6AWdvRxVd61U9Uk61npBWyIshhu5io52i3EBMNrznsF+rEQRdG2HaREZVgMRKxq3Yi5sWmn\n",
       "aoMmDZ8aaRfl+WjvJDqPf6Ze6KD9DHqv21FLJbIrkXSiy9BKSQ8VmrbWuKqEaiQ/xKzzgfLU4cV+\n",
       "73UW+buygut4J4D+iPUBgqr2/+aJtiZcKEaADS/0mCBjZXPb87N5mFkIP4oXMQJukm4gI9RIwXXf\n",
       "ZIDslqthTv/srWUuUbhR9gIzqX9FwlJk2Xu3NnReqnMaxBi2+psyE0MPCr4QLaYUufMvwz8kYpuP\n",
       "+NqCyidX2fI1cMxBkG57Ca6ZlB4RTfHLlPFp0UXvIUUyuxg95UxzJn8fTb2ijUSN7QK297aPd/d/\n",
       "SILpIMCqx5UQmD4rgL8HegyQ3cEM2+p0vexPnrz53zXzrrmnmZuTagSRQf6R03FyLRBfO1Qf6aoc\n",
       "MMT6tmleqY6dkEjmNxhd1GnaNZcUuhhmODg+zBVWYy+sbtVK4VGtaIhA3XXjqi0GYLgHoa8noAXl\n",
       "GM+wnr0ZrI8LepSsS8Yt+XjsyULquTq5pECRPdR/Cntmf8PuDxKDST/ml5I06aHKE/RYipZ3nvAM\n",
       "2BmgGo05WZmlgaoQyH/TnZ4Lxj+w53hg2n6Nhj0+5ay7rPIGMvovZoxvNrc8MOzhJfEHVax1yY5Z\n",
       "A/KWaZYAGFEAAAQrQZpjSeEPJlMCH//+qZYAAE55X/hHKxABYLTtMHHA6ybWGOhEyUJP+FqDtiyM\n",
       "Vpg+pVUjhXq2mNGDIDF8Z0pPdXmmkXqVCXJi/9J9N1p+/VbB8vf+B95pUUv4DyC9v4ehsz3Q/6Yj\n",
       "Ir2co4kZI1Lv1+0BjGJyLo/wrYTGm1Qyv3igwSGo2yGnvozxyujqUrRdHBXbjU5MIaGS87GGvkDp\n",
       "+WoMGFaUGQxYU5DxQNzpBVSft2uHLJxnqapBaEGOZK7roxaoXbFYqiq/eF4+VcbZgnrpTAfKkCkF\n",
       "Z1Co87yoOgEfWCFhZtsUgqGp13ZHsI2qs4ZMN81JL/Iasz380WcL463huEgarWWrb8jsiX1MT4WV\n",
       "ldB0eOunN2nGflXAWlwMsuQ4EWJES2VPAkiDAhI9pRYpmnzmgER5fI8Mp9HnpHqW/sVclRHDBVcG\n",
       "uNNuRb85fBuZFA8S7njEzQ1Ojy6AEIz9vBxZ0NPULw0abbAIIkDCbPLlQsRQz9Bq6xUF+9FcORQL\n",
       "staE/GOZw5vFLgPFvoHfxBYVtj5dawbh1Qo1r0+cfJUCG1VuFMxfVqhd2AxFW3Qp6A5/mtRJyZeM\n",
       "n9jlxS7TP6tJ+H6m8nMNO99YUNzKxx28KMlgp1ZiZb34jScqnQMd1kPW7By5UJByAXe2Ga82zKu1\n",
       "CPhMYFv8YF6FgkXfF1k0Piu9c6MSquoJIiUfOp/32OxM3ec/eIBrr24rbB4FR+w9up73DXI9M6mu\n",
       "kXbkbNhBdSH8l8GvNEPjGmJr4JW1ZO29vdiNnBmq7z1QDjR6+PedsyOr0m0rBi9PSKeioOtxZ6b/\n",
       "LsPVXEt36vC+ZkYatTYLKOR/5pfhyFin4x1hOfnwCiCtLRysoNQBQTJJPqHPBvicvgPB5ojLNnSY\n",
       "XopSQPdQGFBh5J7OeO03PWnY3An7dbu7jc19zfjObd0AhSkP3z2WdSFKuIWIrSzlXB7QdSDSeoDQ\n",
       "sEM72pxUcpbw5Y48lwNAGyrRyim87T3DwhAsw1QbfYSWK/7yjG4+YGd/DbwLppo5xpTpstogzrJu\n",
       "KZE5pjim34eB8ROP+9Hudnjlwwjn8gkcfNE8KZouBMYYy4+Pf5vxFKVdlmctaMwwjGDtOHAiPpWL\n",
       "UAylAlBprG64H2d+lYqW5qsXk6lP0+k4Ew6z1LnaqiyvDZOcx8jqxWV7O92TPHjDlWYzFnQmWt7a\n",
       "FzBcmFy+Z21crSO2iRNjFTBEKx+I1sLPFGMQ4wycHdBWtB3tm6DCeryGl4qBS+RK817pQvi9+4Ln\n",
       "+69h5b/2g+KoDvRVTK1IUIyQpSB4irocdkVZQNfCZPNYcwNgXnwixUPbaNTzVROl6norZC/V5aog\n",
       "BOq4pSCPh9PQl3KvZc4a3w2lM4tq8T4joJJRssU5kFwivIBYrjEXCAHTt8gAAQN6hxmgAS8AAAGq\n",
       "QZqESeEPJlMCH//+qZYAAMFs/+EcrEACdbPC+0I1UsgINEzsnYYyNAgsFdPln0Q8CQkWzVcyd4IH\n",
       "nYCYGlV5U2i5YA1Upc3WWOVK2wrLwwQN2D87EOoR9EKW+Gvclq6WqpkCKPVxZypjHroiJ4/GoHEB\n",
       "FQxn6y5mkTLp49Xm0yf653ixudGz1B4wZvMCYiquRVhSicMqJiTXI88pIIEQe3LXpLfQOTzZp84U\n",
       "cXRcYrFkOAKOkwSw4YK6KYdgkaSfPv1a6Y2yyZ7o8+a0zlfxEko6LXGlIYuadeoXjyxOc0EiiAct\n",
       "PiruL3VgaC2pdOaLEfmuEyeSVjSPaVu9/PRuoWBu8C092z9V1JGUOytoPuGOK40835AoAKxmIdzE\n",
       "GNk8/pPvzwBGnCsTeb24PfRl5dgr2N3sgkQApOPoGjpI3RvyCh92zYT+v5bfMGESX2q9if+YepAP\n",
       "z1exmjhf2yPA6OsU3XJ6eKU2mZPM0cM3jDPSKegy0IPgCc2j7SxFZJllys+VGKJ6i7aLvefmr4Br\n",
       "KZZxJCiMuZ+hlOMgVLyweZ51XGwAADs3hB3RAAAB4UGapUnhDyZTAgh//qpVAABxzuZN5mu8EkRW\n",
       "xuf7/8I6RcAJpXfD+zvzl6RjAK0toiCiSaJOYsjnERDmCwPA65Wneu4pKPEqvCTKCbpziNCQJb8Y\n",
       "G+fFxrhotnUZYQZgT0cD2YajDZyccEWyYmbGYTJkp75pOHXtDJp0tVLdDSvQP18Wrt1JMdabEXgW\n",
       "4wMhvr9coRMerQauHb8DPxp8tCU6jSnlwRZmoh3B3s+krR5n4GQ8J2AaJGPT1w0czvlovWkoPJZk\n",
       "BMumcjnMEKu4FXYwVJklVdahM+OIS82YNcX7yH7Go8sG1jqIospapGduxIrbQvXbWZXz5NGRoxPM\n",
       "LTbLg+zNVtU4oUhLRqVXiQVfuEXWQ1eCBNf8CL2oYnSyslUNp3gnatjv1HzrkMBeoK/xCOZnIUCm\n",
       "tupN7BVRb/w+Mt/4Nf9bWZZTdzo4Idua7pu9HPOQ9IuyTNxuGVnmsZxKNVpkL54yGGYTRyy25Yaa\n",
       "AYiBzjiJw29vRL8XN0riskd0Qot+3VlyVcBlZItBWi9omIfSXCLGsCeRjRdxHdQoWQr5dG8wAmgd\n",
       "Gs3OQ/t4gHkvMD4VUA2RSFF5i9ti5UWLdJ96/dwb3rbu9VS4W+M/H0wPUl/CAjskyfNNrwssB80A\n",
       "AAHlQZrGSeEPJlMCCH/+qlUAAkCSAnsAw34IDjVHaKGKlHfVvBf4J1gAEZXnJUjsIEVAeiEk9qlF\n",
       "SkjiAd81Dg0KCPkKyd3sNTPqZwIJEyczgT0gt/DVk8S4FqdIbH4pBj175UmuiAxqZmZZsxb1RRZp\n",
       "/5r95/7MWLZuE6CivbmVOlq7fOLYN16rHchgh/9Ecr65OvFiFZozTgKE07DalQK62sxNIL057C4m\n",
       "3kKaA3z3FwvM/QSLuWBfGBQbiC0PMB6/ubDFd/+UCnwKnOwemOssMuJDB9hm/SjAwe5JCQ3avJ2i\n",
       "xao68V6R1v/XDeJrCrmIfrWFNgxjEvNrjr77Tk8R/80ZiqznbSPAwF3OslmcZsRstVd68Y8sQnxS\n",
       "1ttlodLJ5XqVIpZC2uE6//IM4/QaVoGLZaSlSHddJpcRhfSe9leSsEOFws3msk+vOkZ+EtOEiRJW\n",
       "i9dA2KyqC6Bz/Vuhg3HyKl/wQz7ZmjIQ2xUQEJzt5HQmPH8HAEMnEItTpUX9KzfTMcTblR6iaB+q\n",
       "auWQBd/wgsdYrY2Aqr3bCQqBjjTIw1SnZthqx+FJ3BjgT21soIQ9GzjOcylJf1sp48F+OsveweYQ\n",
       "NvCvm1oZd2b5YpEyNMN7IcFUT0NiG1vH2TzmYlrZZM0AAAHbQZrnSeEPJlMCCP/+tSqAARhti/vC\n",
       "9hV3y1LBkMiKOpEyZdqA6CZcPhGkcFuHWMp+ThNUkpg7477FHpYcSZ6tUsDgBX/alHvNl02QdpvK\n",
       "LxNsXJMOHa1cK48YSMAyWRQdId3bIrbR+9rprrfIE/asTVyU/+IVCPxYywyJL+Hfx5H0LoUWYPtu\n",
       "adwQcx5MYxoXvVvo9FoDWLGm+TwsWpDIdI9E0HQjSqDCoLpv9b8enB1UqfNeYIwulU3i9c/ypQBe\n",
       "LS2jbNYLjU6BxcDxe23bpkl3sy1BjLJ72uPAqBYCmboGFq5LYd1gJE8Zp2CJLKSVrWi+4Dp3FIEM\n",
       "kXUiDG7cp67VPluPqRrB/aKlFhDoyg8sF/rvY/1xyg+iNRW7/LQ1ZLNJDsXpwFKfkAdicnsK/cr4\n",
       "r0FueAknPWnxKyDpXvrTaOyV7ZPY67gNT39SBLmtm180BCYKs9J8Xwvdi72oViopnCy9wR5YJclW\n",
       "beGtraa1P8zNhb9ApLxRhIl6FlatrDyrC6TC8HgktitHzo4Nqr/UPhb8hhJNMcKxU90NUliqCYJz\n",
       "A6SI+UYJmzuJ0KytdJRGz/pDcj7imLQZtS9q+n2r1dN91cYzkIjdU4cTuAQK8L/l2eg4KZ4zIQAA\n",
       "BdJBmwtJ4Q8mUwII//61KoACcN8hABUdvu3AsjgggvwfQkJr9wjL6NFf9rwsqSjYkqj047+VbS9Z\n",
       "HdamQHp2UcZmouCeKpV8jN6LB+3NFCe5Qf72yfS9D6OUH69mOPsrmJaLO0D/SipASLv4WuFTVdOw\n",
       "k45dJTOxclE4SK151zfyo6B2e8jvsYupAm8XzQMeVB9/Mg4e8njMdzfiMjSXASXW4xAu/kj1zWoQ\n",
       "tKriy9GTdkz054OJbajaM5DrsMmhiFdiBsslWcKMy2pVKMvtHIx+YPDg9VJXWfJcESjj+DUl/I5K\n",
       "VtuOXnEoYJri3ZfAIDQCf4XzPPlQBnkOniS1Mt+tlrGDK1ASruAFJ+cS90DfdksO61hOVNyjA4bm\n",
       "SW8Xend6XI0ftAfL6LJsbMm2A+AXpg0t2DuOWH9Rqy1/I0XMU7yvXwv9ev84g+dtf1pqru7igON+\n",
       "9tgYR0uSkHKGtBZmiZm4JUYjKGtTR8b1qEye9oHkVYIqB0w+S61rei1jG39gcCOfPO5U8Zt5BQ4K\n",
       "J9+HssaZMlaaB6+tUsH/E5vupvBAp7OkDKYz0xnWgygl6BIT6GG+Y2JxpZvt3eiHDQ9NVSql+tP4\n",
       "zbB4ntfU9JkymTaBi86MuZP+N5FnQ95pECjdtk2gexOOyOWELe/h0MxSIQngqP1BQob+X+chSOGI\n",
       "VCKxSsyFq8BOQI5jJtx22OHcPOMqyIk1avrKl338dtBTU2wIxb0sKXTPSFGN/9an26mfrE+o/7yC\n",
       "W91fmouaBs/EHEkXF3VXyhzUDEZJ9+Kt1MD83skd9Mt+zyslPPMI371tuLb63tYPX7paeKY52Sh4\n",
       "ibqFLv/VHlUPLM1Wz15vK2ZP5GHOn5Gwuqsby9M+hfMT6b6MewTpms7zeEdzb+GjsjIaIC65fIRg\n",
       "k9mJSd0kvTYpFIIG4x/AN37ny//8t9SLCoPaAcUtbAsFZl93v0amnRNfT9pNAar2t7gY/MLD6XRk\n",
       "r+rR6vQPOsJWIsig74bdnfTmDoXwJfn3uv8hF39i339OA/MpAEYyAM01hsy7qykDSekC9rW/gwp7\n",
       "oo15zVoKKHbF5CDdx7t9msJKdh3mTkfw5/7hXuSefJ/AaihiHZ2nZ61pS4Wf/4geQV/WV9QUrFvj\n",
       "BKV7xKr4tnlIPTPDJ772uwoaqD9H15kQ/OWpnCUEqweURC/zHTgvx5TQJFlR00/2ePPAsDWx4h9r\n",
       "mHCxxRr80Rmq2d9+U5gG9H0fiTl0ZldPnm8yLaXuV1jWiu7KiYTJR7hRBtgBNOYZUrAUQV40yJpA\n",
       "y1WZjptalFy9T/K2+zR3UJqUqw8Vc1bJDvj2ZaWLZSl2xoouye00nyA8WDt/hFO869zUXnnxdcT6\n",
       "m6x3Z0T+Y7dXpc/F9dPjCMgMHrQpjAen8wn+j4HvwDrHaQj3NdccXRDZUYeA3coTU2+JjI/l3rZ8\n",
       "SzILSLl4OBAYMAUOE+oIl9kOGv7QRjIILMMDnW/rCbfC6QX9ex92Fx6yzL5bOqjO0RhbEiMFGvsH\n",
       "gM3MlBA8zT44doFl7+tCtPDW0W0qu8Cz6ESnxpROEkqzEkAiV+rrI/76gWeS6QtQOwAyV4ls9HbC\n",
       "7T+tipxgB86ag8kcDHoShPy6FcDAppWV3r08v5qwGRQ7CyMxxVli3P+w0Ve+BrlthJEiOUzOEj8f\n",
       "EShOZ7SQYgJvS+gFAFbR7QUKvasQA67G01pLFbFIOWbjkDuRyMdPQmeqjhHlY17j3XDH3C+St4aX\n",
       "biKFe9YkL5DGVkjNc5xYoTdx9aKcQzZ68bZsikzp3q/ihwlIhwvcMfWAzuXOtOnS214ea3BnFZoA\n",
       "10nqQ5qIr9Va8f5deNbpiwGxTSnJupBd2Gs7R3MxRVNNC/EHWCjiksmOHTLHvjUtQCAZA2TQH/c9\n",
       "6b/b/qTK7s9vojkJcpe74w6A2mLyFfMscevbQrXcw5EIkgJrHEh9b6v17tI3O+469sjvh9I3Czvm\n",
       "YHqlsk/+638j/AAAAWdBnylFETw7/wAJhH9esVaGvgwQ9R1JAgzji0jxGAJsOIxlJ5J/BULAAJyl\n",
       "ZuG689u9MM4oXzyCxFIpf+vA4OCBoX+KcqZQpZA3XuL3WAN3BQzgVw+DrzYfoLa8SB6sRXdX4kDZ\n",
       "RAQc0/zKKzXfpntk+0SRZYRJZpTBjIs+ZKz6dWxxvLlh17WIRzM+gI0W0db0oRb2jzdG1WNABptm\n",
       "KxYIX2rdWHrg6wZxowin/StsFeFVA9PsxlQPyamNy3Zj6sDwel7ZjpggcqwqP/PLOY/hYB24Ygz5\n",
       "DseXlKv4Gmrq4UpJASX6PTdDOxwEI2orn1V2uPyGD9vqlRRHrk0KVuyTHn0fNlrxZFoIrfFW9kyv\n",
       "pOHcLW799derZB5FRCXPygd4dqpf021HGspl+YvDofHlpH5nX13v3hJTpk+UEVixfI2TxCZSp/Rc\n",
       "VmbU7Ep3cXhjjVqtRfKFRLhd9gGRmwQlNYg4oABZQAAAAKMBn0h0Q38ABnEJmpLSc9mfCgD2z29G\n",
       "+dtUgA/gzOmpfuXuBwHP8eSYjS0Glud7d85fN9481dY8iC0oKrZczeWLeDE1Zp17lT1rVXeO5O1H\n",
       "q2Os8eTZqpY5xvCySybl2xVofBF9FK9tBRxfuu4sn72wydywi2pIjStsb5/ojl8HVbDWJ5DRgrm+\n",
       "YzzU5Gn+Kgc81Zz5GL1dYmOYEBp+6NOsAFbBAAABRQGfSmpDfwANgXKn2btuDWAD9739R/zRsVW3\n",
       "xwMgn41oS0hTbeaqWnV5w/Fn9vv6XdK6EoEK8MVjAv8MjVhI04IzjtSiTRiCnyAKSAbp1iEryowy\n",
       "imteIWG0YnRJN6aeyS0dVgVw0W4rSA0VMBgyBs6UmfVqxkbchxyeyVl7xaITFjS26W+AtLlzNia1\n",
       "L84dG8ZghUZHhk4ESvvzQfYo1wU1NV7YGJhzUlO5McHNFeRfNoIO1nAWE+3xVY6YRlHv4XoD+Mqw\n",
       "vM+OVcQuDtQqtDFM9moFRE/dKX/RIC34U9IebBRISg9TBGpCLBfexHDiw1k69glDDv9IyTq7Stt8\n",
       "RNzjr1tMmTujq8r6PsYa81MbZWqXosDymH/3gvUcXg37NEjsjMtp0uAphpC6JTrf8w4DBEmcLCQW\n",
       "qtPye0AkK+ohi4AAQ8AAAARVQZtPSahBaJlMCCH//qpVAAVLxN4ALpR8lSN04BSLSQRGzplkCsd4\n",
       "Ii0iEPF9MYASFprYevntj2fWohZgA/2FjbxxsBOE0Mfms5HnU6pLtjzUKzsNhnqsHp6exV5xTBLK\n",
       "bIAgtK9yhl48xLXh2EEDWun3puwqcNZvwW8zQxD2nM82BKrEUo99q/mMqeSSnZRUU16bWrFAD+Vg\n",
       "j0LCKIbBXJMN67M7cYwr3dBYkO1bk+5j9GvqZvyI/PDMyooPpHR+GTvJY4nsgzXixojLmC99vGqz\n",
       "LbCqsnrQn/nWBYZjFdVDsnkMhk4bQ/KjZqoHt2B425REN9zjxXE1hNKb7uI+gyO418kx7d4abCeX\n",
       "NeSlT7pWIFtV35NY0gutn/F+A7eOuF1qtpC038tIEoseSo6Bpdo2DwAzZPEzlSQV8cnz5jKwpzCu\n",
       "3gU2cR9Of2b1M0ANmahL7CRxzDNWL6ctSJN1gYIvtfh7KPnsMzy1j6ZCe0wIOc38isK+7HWz0tj8\n",
       "Ra6haIehgpchIc0zOWoGyDSZRdkKQPJQ1Eo6S4Ah/XaUbaDaUSWbHv2lgTzL2ET/sG7qn5F8Oc4S\n",
       "r9OSdvswYV5/BVrtmWPo+cP+CYC9Lr9T2QhOae7BsHzSETa82N+ySHcxtX+lkOGwNDdQGJWxq74H\n",
       "XPHJ/oJM2c2lBxxKO8dDGIC03WSVaEA1wp7MNO6IZWgB1Ljdy5f2i8ceDtdtkI3nR8Qu63WHkHLA\n",
       "eelwewpKRreNNOM0w8vvEonOZJdMuoHOnukeYqdULST1t2XSFNudaKffuOUS/uo2AQlK/meY49Nv\n",
       "R8GxHNtawvtJBY8IGPuT0h03w9RHVAHcAO4JyEwKoC3xUkljhWKzlF6KLhUi0JjTLUic2aaHXEhr\n",
       "7+masn+ZTDp2Q9Ftvm0CXN5QWVxQo1FJih6KGQSHa3e5j2F++ZPWlUQw8UkYkF28SefMAto6B+b0\n",
       "2g+p3x2xnSNpcPuZfA012nbhk9G+kfA27RxMNasaev9wMt4qOmrpWxpNqzcFlmPFC5PFxexeqNM2\n",
       "9JZRAWxO7TB4dZ8kJ3a5qoStbCcByhU+frYDKbYMAJSHny4wHsKGW6lZzhjihbCKXsED7Sdx4bIb\n",
       "hunUKBTu4HvdlZaaLkj4bGrHx9qPkXkGuX9Gyp6PVRBxpCfzX8seaez56nW35ZsHOIew5PiWjnlk\n",
       "hNpEXi5fbTJ5LcOyPpjq8lgtmiBvuskej/ygMENLnXOdLbcB3FOEnAxLoj573UbNFL0PDHGljzCU\n",
       "qglH42KZUX3iMRsuLAoh3ZYfQ0dRWDD6WfW6jIj8d2FhMl+Dmj6GT/58WAuGHbhnqcO/7ZzJCXOY\n",
       "ILXjLhO0CQ7DgV/iJJ4MqYD3A6TRuZqzEC04feKgoj3KIIdZNtAXx3OQVELqom3Yu/7bAhx8IHIg\n",
       "vsWZMt4YSZqx1wbDklyqXSVOFSp4nL2iBwiSFVdJUO4r9WnVezzwohL6ixAAAAKKQZ9tRREsO/8A\n",
       "ClKvYAdABfSSaC49j4cGxV3BUJGQnXQ0xCxl18LYbmHvpOj6pHIWG12x01DcDnEpkSfp77X086W1\n",
       "KpqQdJc4gj+MhIQSdn9M2kiYv5RxHV5JAZu/3azeen865A9lh7Clo5KLRxj0cdYiHiozCN9X/K96\n",
       "PPEczZEdeAPPAIGtZ0eJ4B8PoKwJD+ILCP8BSggOyWAIUXjtBsup/ZdW/ZJ8ZnLjayb5HHCRNuyk\n",
       "b2g6KFwFufoDw/dOk+yihANgj1lNmEwYwx+eIMmrtbXTzXrz1ZpTQgYrxD/dbNeGrWisu5gEiXw3\n",
       "ZqduP2Vj7XqjOolejuXK2wXm5OIk5lmiTpfRC72hP+wOGzHJM/fzRhovUBqORWNhPZKOPnHhqLTU\n",
       "mEh7s1t5GrowcuCsOliXjwjzS5vD0Udn0z+CJYv3Wl2eUbVi0V/UwdrxQBOTQF8dKA89E9nBIyVb\n",
       "kCkHF/nT5gWmwVUqRduZeaW+U7jHwIVVrOxfRUeAelge/m87VDfKzgLq6c6qMqvLNFoeyNFkwAKF\n",
       "VFxBKmORsEW6EIOECbJFxU5OrlspoWPwlCqfq8eNe07GxAIpQNkDCGfqyf2tHGD2e8UDy4CcHely\n",
       "49nAyEJL5U5qiahL+zEs7WVeap5vWNJbBLTW/ONkkZitYwpe4damD7sbAKyDMWYHmTwBMXWfXiGn\n",
       "NEeSlbPD6jtWvHdtO72OBFfzUYe9yQJdiKXjRuBc44NtND1lHFI70RNg9zMbSo+ERtKxkwvew/K4\n",
       "b03681Y3dmVbxZ8d4AUpwGcZ2hLsp9HPG2h3LqU4bgAR4hxVVxRiogJnBF+IVGKy2RBKKB0ALMLp\n",
       "ChqBtu2jKwGe55xEZL0AAAHDAZ+MdEN/AA4p74YiACH60HpbrK05+2eNkGG9HR0Ap3HlRJ0tfjyz\n",
       "qHT7ghWW2xT7jH6g0P2r4uR+wixvX2vyucA47Hfyfe1wbdl//R7hdXzmuYq7MuzwOq6DmQ6mqhUC\n",
       "/wB2yysiJcXfGFQkS6HdtQPqZwsJ5/d7MXP67xmj/l4SNbyu5gLUoltig7V/vZgLT3EEq6bB6VaK\n",
       "WbC49VDdSqqxMwVO3p3c3IkKYhbCWcBCCWdRSW64p/e9Ptkzzamwg+AMBgMmmbYR6zJTQW9rgLEJ\n",
       "kgdiqRwH8CpVqcSUwGxuAagt6zf7IXvfLdWkysieyFIEuOvbUzbhBVgN8yGZ1O8H+9k7mvNoBnwH\n",
       "4aAOJA1bvP5Bzdo13CJ+oemvocA2wGgb3OouROJvr8CGhc/l9S0NwaersB9nDjFIjC2TZQz4ZMNL\n",
       "lIjJIG324kFdHNYYh07O0xrz1gy41bkBSbdzVyVsAMS4EeHeyRbGQUNDEtr+Lq9HV6i+V0I0KLV6\n",
       "k8nQ6JLNiPQgFZ1aEHswDz3+pJVqtg0CeIHimqCQXHfJzrJbi/ud9DK9K2Kb4ec7xmn6dtR8B7ji\n",
       "dYZIB9rrbXBvUnGNaQAAAWwBn45qQ38ADoFOSABEHvM5PldA9R9PE0pa5nTi3KFZF6qlbaQEUrnI\n",
       "piYT7Fozr+FGjCiWZqujrHJwaYNIaeIAy+VmFsYp/TDlsSAxnbuPqTtXMZeLEXRZvxrJV4ZIeL4q\n",
       "Hx123Om4Tnq+Q2jcfUaBUbbF3I0BwvQwvG4qqaL0P5ITu0PQ0NMe+c+Ub6LDDVn0x1gr+vlkdJmm\n",
       "nYqtTLzLmX82472YhYJTLsA7FIqJeLcuZubQPj4fJOW32Ho3jqD2y4+FA/Nlpe6K9UF7v3ztWMy9\n",
       "1xfjb0C0iTAIti+Db+ZinxqmV9uuPDIJ4vzgJMcERhaNjTnOxwMViwYTR1otUxK1Ypo3jsLV5Ij+\n",
       "Zs9rgxiJHoXS5qqn5/0vxjDO/NP8/rivpbi+LPMpXm//VM3XJ1DIo9O8x1JGJ6Khmvr9WidkN2qm\n",
       "H/gfa7tirFvrWZoSaRpVELj9vIYdrPJ8VXftCABaKzy3BDJ7BZuBAAADKkGbkEmoQWyZTAgh//6q\n",
       "VQAFS8X8AA/gmAakt7GJePsOqILAd3KYkzoh7pJyaUpvdISkxGgvWH0JRbgE6pzi6rzaB4SeFIKl\n",
       "ZIh97s0c2bdWj5wP/E+puXoqTDVDdcf5HYLfYCkioPA98652V+FXaprdt+gk+CtO3caOZzBMZJKu\n",
       "HX72NGnFX+3TJ5PCEfcN1qLVtehrTe0AfwC4m9CrNjf9nT70GhgSODUh3Dbrodf2gykhTnYCr2kX\n",
       "5Hgilu3gfk522ETX/qkZwe8OXlonHgC315Qay1V1X2wMHdKwz65crRYYIWuA0yv35AWQ6dwbQCOJ\n",
       "xtFn0VezowsfoCl9Hy1mBSvPwYfs2ifFqiZsnwY9HLP4DJoEvQ7tHid85s/B1NOcTsRyouzbXxNa\n",
       "M6pEW3bbuXLOPgNEpZ0BJmfpfxn8CSA230S40ne9S7kWYx2775v6SuybywclS803XE1UvWcjPMox\n",
       "Vd2VlqE6u6rnhmyWUcUC5nqba69MhjosAlPhb+inK7PhwgrPMsuNG4J13KOHXi0+LJhCLkUyQFx6\n",
       "kiV2jst2BmGBXL7xOhIQLM3qmb+GfI3q7EeQRRgyiDH6gAfeKFofU5mARcgsieqtRDiiM1oSwJ7H\n",
       "GxeEHjCzrdtIXfu/Zq4zozP4CNDG8cEkKZM6GwQSsBZyJdifH7q8StpC2TLzEDmuKpJcmxhcwXcD\n",
       "1BcEbtmka6QVRYFi0mck+9nZHytXlSR6YC+58qQalD3ZKxe3712y9ZCUvnB5Q7GxF/TQpLd2na8r\n",
       "uYA2/hJ347oFPms19B5VPvpxoK8ninsXbpmxLQTqdQE86NpLBlweEYNcE4pDUaHXAB+sLQ/W0TQX\n",
       "r+rVM+OEDWoP7WyK3etB5OlBhpZdEwwadloml/xR1437K6reECiKJ82aJi26zF9U4VWIfdsfV+8k\n",
       "2rM0hKRUajfda8pmKvStANUHcj8ZncS/sKdMlZay877aNX1F8EGlC8S1Q1I+e1WxsXmWREx8DUKQ\n",
       "uREvSovW2JPR48BWwZlp1a4k7k3wOR1zgvF6bbM42YDyeefx36vFODmjVwzxeWd0/yVXEJwJwAAA\n",
       "BNBBm7RJ4QpSZTAh//6plgAVLptoAoN2BLr7Rc4J9H+LASwA1ctfQ46XpDOBht9hP0h/DjUpnTOL\n",
       "PghtKK85dDrgP/qjOUrRsgDXGjddHWzO+Bz30+ZRj9uJhNZtxRcM2mT6VxnJJpLaiqg235TYJaNT\n",
       "aA0QqSFRdPtCYgSXCtPBZAuYUvTkKOqplviIo9rvs7UzXVhGWjtCi/7G2M2x8jX8TF6MCHkkZcq2\n",
       "QI7edH6lhSA8wZAxqGba/KphOyFV/9uedabb6ii3vkgQS74N1LyP96JFGsYzqcyhSwwmyW4hGqOo\n",
       "U4afulPVh9A0jlMcOM4u8HnBmN1z9KJ+gKuDW/R69LVKAt7pMC/izIcBFM8zpzwaAKfcTJU5l2Z4\n",
       "dlyi2nAX1fSgM2YsJ9zPqkYL8g8nwQcAzIl3t/ZXBrBUJf7m1nKt0GEifG2+iVDEBuYZdmV9BUc7\n",
       "APphaSp9cUNbHfqa23D5j2n+pIY09JBfy5DIyTiR/TMtb9CDkro3zDRzXa1amde6ZrS2R0ZWXcSy\n",
       "VxiLhi8fqPJOn99csUcGXp5C34nBKc1qBGGZVfESewsXIxk+q8D5LTkpisMylOtSSUo3fHsBNn8P\n",
       "5CW752HSi3br28Tg+owjhzg7FiFjXn08xhOdWOYdGx4fh223RZXkNpfsY8sxAuPWwC28K4wD6mq7\n",
       "0k6uoJDyhm5AtG55/u3KWM0p1btf79wfvTT1Yhn/X6Ik9Vj/qnaMCIpGtcZ+fcKLYehXUu0Zd2J5\n",
       "XwPprBDAnl7szD3xYmwz0+2I7b0pdcDeneDgE7YqgUxG874DyPbVDLne6EM3eC9HUz41U22UX8/1\n",
       "ZNw4HFwOawPsoBrKJNuXq9Y5eTiWC0rwKewDJjaGqpMNkih4iBlt6BimOrNQIxw5GUPe04bB91YX\n",
       "tU/1MpdOWhNJuK3hxqNitUzaaQ8xg+Ty1CUT68D6GMmV/NXdkDoSd6YRCIypXuNVRxa7v5quQ5wR\n",
       "fHGvYlD7PAaWzJ4Dg6Q0Ot1ygOh/mAxw8tMTzN/bdYNjZnakBILsX6hn12a+5gYg2B8u3uR05X4n\n",
       "1CVglj4F33qT3orQTYH7uef5Njuz0LA3ZX7LvuOxSTJTgUk6vd655Pt66QzHMtDrTM7Y6y1T7/Sv\n",
       "gmJi77RndnSdoeklGFHLi59tkLlDYN/B3w9ZhgKAvOxoV5I7oe8fQK5QxUKUvkQq1Z1ytfRydY5B\n",
       "NIi2ze4xrBH8BWmlxmsjj702KY9y4A9+R3kLfBedYpkz42FP+EfuG2b8jjLy4L/o9e9KHVj6gaZG\n",
       "kp/8gM/9XlD2mfwkdT5usJ6NrobZsqsw+EdUntWnMFYlMQoQdS28eSDx6mwgkSZq1ri2pH6kRA2L\n",
       "vocUU2XCmdHKlmU7rpZq4rkuE02CjBVklR072VdIiPoM/jMDzWJCLeSZ8srQN4Ff7M6nbKlkuhQe\n",
       "qb0RKpj9DpaS62EfGMKWPLgVMq6kV7nahoeSiAYEmp4T7WUi09LA06UIQ+egaQioCdymLzb7WOJE\n",
       "UQNFNPgwViLhjELTU3tt2WjsEGdFPsL0Al5aIzX9bnVzjHpy311ccgIZwlKigPM33uvAMRxNfRU7\n",
       "m9i1khaORaCWPuqrFyWOyfFejLEwj5K24xFeKeY8N2FOmXgJ0AAAAZlBn9JFNEw7/wAKxjBA4QAS\n",
       "z1BFtcWa1J2ZBHcTXbww8s1jl9KuXuOn7+wW06ro3HLLONk679RhNdBF70jOl5mcmVMZ5luZt7OJ\n",
       "lgsH7xUtwv445oJdqT63AC7qQl/cDRg35c41mjAlMM+TYQNdaPUA8zd43PKn1dftT3cyJfjhFn4G\n",
       "Au0XdGfinyjNuoqq8ptY67uSxWocyDw6WY8ctR5ZdhcSoKQISiEZCo4gS7KxyzdOarFpepCXCuCd\n",
       "xnZEPUyoxRvIbAPmy2Z47/NeuZWu4WU45Nms8T9xf+Vqk+4q7Pp7rSCSx6GeQmUdAXH8AXP+Xu9t\n",
       "CzuBsLex/YSZrd6NFWE+wNXpevVx9Ghdu2eteOMBcKBiXb2aYEiHpvlTHPNpJdQJa2frR8n7Hbno\n",
       "svqB3x9w9RojQ5cyj1wQbBrBL786IQNsH2atSdVp9AfczUCd1pWK5ZHL76rhCzW83l2h2FmK2VJ+\n",
       "gMN3szXoVliRdegh3uz1mWvVR/aWGJsQV/U9yiTSeFs+yABShkonROuJSKYG5yK60AXdAAABLAGf\n",
       "8XRDfwAO2e44NwAhT1ORnMOVjHpl71mumu/pxcpvB+wv15Ps8uzEQNVhlttsa0EwYUA+rxyzl3WK\n",
       "gUm5n/ubDuWMwsb0PCocqtuRDkkNCeq9d21/ry7V0ZpD1PuJyCCTYkbIn/c67SjGQZ54ZjZ5e1FS\n",
       "YNyidYwIR6fEA5sgLay6VRKEy4/1axrVzHF5uhkB7KXSqtaLhciLNqhj+7s+U4G8yGvA0q5V7YZ6\n",
       "1nOeYe+K3hW7zA0kmDt196F9TM3oRJgdCHnS9sMwLqFRbXwXdyFk+/SziF1SKd+pOD025ut9541/\n",
       "JqKhRzKi4PlHXUWfQ8OuU1FImv+T1gNGK0N4iE6dfiU+yxmQxpBnLRuhH9QetsPMgl1/JEa4WP2L\n",
       "OsrKqQy95TjrQMAVMAAAAM8Bn/NqQ38ADtlBh9YANquJLeWd3mRURpKetCgWl8dPW0EtcpXuPxW2\n",
       "X76lxSecp2eeo1ol6xNSaWuSyYGdefl98J1hjyFEJHzV3KT5gdNUlp/FZCUeUoYBU1uxokReP/iy\n",
       "POmxo3OZVn1CZCkzEu+XDionaWmFpX3K+wu/3K2HSHNfC4AFpULNuox4LLe1zObNwx8Azi+sE0fB\n",
       "OctxIWBi4IivlRQ0Ff+AEakmUcWEXSKWLNvNANHV4SFarEkKoYlKzew4hPVldMErSQOIAYsAAAH0\n",
       "QZv1SahBaJlMCH///qmWABUun1oAdK7K88IgPmrCQ+2+zlCLn2Tjt1AV6QQXY33+tYZ9SracDlHc\n",
       "hmZIPt/EeQ5BNieYAV32H9R/IYg5cULC55wpFOfE/N1f9/5I+TAAdj77x5bWb+Eof0nCcSllbxfx\n",
       "q1BqSWGlwNdKly71Pj2wGZp+IlSiDdiwKXbGBhML8G5eGn6YZdX1EuEkBUISEU8IqXumtuKJY3vq\n",
       "96z6XpQMdnK6E3t/F+l8AeDjozCkRSC9dEdSH4Zd5S+T4DzSuLX4788f3xFAWlKIewzle2gGRqrF\n",
       "/eupoIVfGCLOeqQs9rF9Yoqvl86HuiUJvfl5AwFirXamSQvdsyMeWdPC9ZGRDstEoREGc7v+TiYP\n",
       "6MYj/IHx4HhD4YSR8HiMZCpjMBnTFRO4zNN0n1u2eaUUAQfevnuHobmyOjxtI8dL6Ey+WttHOd/F\n",
       "pwIVrW7sjAkn37wZ+aAWDH/3VDtlJxcD6U8rVGvD+FMCA43bMLjCaFVytTE/4jtxrs0c+LN7+EID\n",
       "5JR1rcl97gvpFG1y1bkNrETmyg2axw2WVORIwcQxs8kKPhlR60kRzsYw5d+RN16aSUWQ85mAXwbI\n",
       "1VnO8dMyI6JsqY8vjOFMzl9IBF40rP2XSeVcByP8zhtdxWVa7grTgBAAG9EAAAH9QZoWSeEKUmUw\n",
       "If/+qZYAKl1NUALBaqY/xIsrkm//nH09K2RCKpLnnWCyDOlOV32sQ9a5xJ1X9lxuAUjFtTWMxiJx\n",
       "PJjB6WPrw5FENOlQ8ckgJNCfIpFjnIEQEm9vTP70xAcWMyQA2LiXXhdyzY3p3AUj3mvpgI01RKIo\n",
       "UgXfHITwEzPCM2LgZTaJVrKlMwpYcmdHW8YVsAIaUNneUsAZQpaxj1CUi1EzTHwk2Mu4G37hcFIj\n",
       "N9mgIddyA2K1VNi23j9FMaKLYC7SDra/tykKLQEc9DDMvo9oqJfKFK1LNKzHjxPGczmuP3pdtY+2\n",
       "Q+Sd3VvXf4BK2mEl15GT+TCO9olcMUN838e67/kNy4RBQn8HTdKbcAcSDKJCkSpLNzF7UZSqlKaZ\n",
       "t/jMETEohqYABtfzU+PTgShvtAb3BPE1j1+4AgNpysx8SWfmyt5VQ1/bJwYA7iXBqIIWeKtTOBtX\n",
       "FpN9pO3eV+Vd0qFthxC/0H7K8Q1abkHe7SzngipDFvEQswj1PfI9dBJ+3tnbSZVVogEpyuYPd1a2\n",
       "5d1V/MNX0fR6CY3AcgTCuFFxmdvRWeKS9cJb8dR8opd5SJzP6iJG0xfD6oIEvFnQUQE9UNIl4p5N\n",
       "YqK3Q+Q+QDi2G8tMmiNMM6Sn40XCfDdjwqxQ3xMAJ5S4Nip3TzGUvSoAARcAAAG3QZo3SeEOiZTA\n",
       "gh/+qlUACt+dPACMrypHaaKvNo+tX/zkN7KSvgDnA+UJnt7lCn92neKrZW0J+Wx84oqbkPYzVcUB\n",
       "2KkL/kTocuCJLxNK1QveHY+JpX3za3hPHJhwWSJ6mFe9D8JghF9EaP0Ff8GVLMqRHHN7yBgMlRlb\n",
       "pFlXram3gvvh0sXkXG3lVY1o9bMu5e119HlhS7BQdd8eTEb9XGSnWE1Z5NLkZaoW3aLxrJjOv7jv\n",
       "7kpHl8f6fV6BRJ1msTW+22qn13FogE5Utxh9YTQ1fzZHodwpxy/ft7oko/jVP2bMLUVmO5VCgB78\n",
       "whbYxlzva/DWFotQ5hfyO1br+H0dZ77cCNsRih33udBnNPXCVlh59tEHhJFl0z70QKZEdH/xrHi5\n",
       "BuI5W3d3Yd2qH7coSWcGsJ8ycQ3TOSYunbG0/hjqK1zaCjg3K8p732h/Oqvv6Okx9zXeX8KY4PCF\n",
       "ybc9gb1aIjnCaUGCKzy5UG7/JJGlhAZJEJY7cizQau7vRQBipJQG4Bd/2AMI4uRPxgVOjoCCZnWx\n",
       "kDWc0lAK4b3qBgFjiXdgNONQd1/U97o3SBLG/wABCwAAAZFBmlhJ4Q8mUwIIf/6qVQAK35XkARNe\n",
       "AdVYqV8kVkeICpCXWkhnloVUhg9wiPSrGtZ0N/T0MF/2w2GJgPzFdS2hr+apafbcECkA52x/aq1A\n",
       "IacXaNfAPGlGBXTFdca5yq2GBr2we/IRbnnt/8QuAAgFkjl+VTvKiAtEZ0zN2cLoCIA9eOpPb+L5\n",
       "t8PHBwQJUrPDutmhGHh28Hy2J5VaValgjU9myMoftS9KQZO6otyGYwTpDWGbEaSjRo3AFd2UIPav\n",
       "6R6lcACOAujwob4lR5Pr1JtZs77C0DjvAHpDiaIE2ERtEZZbc52App50ZQughmzAPQKljpdUifKv\n",
       "pU8MU3qaoBIEo1K9RuJoFNgp9kReeYIQE3XCe2LGyijRwQ2Jwg6n3RjNN8wnMOH/Q6RPrfHus3Su\n",
       "NqjXBAnsUSL9T3bgBKRZdm5yIZoRAJCk0gghXtBc/zvBUOANeWMpyII+fAZHWvpQJebHUJwtyap4\n",
       "dKJZTuwdBVrNdf9T4x+/N0b+ub+/a9CK0IYersYj4TuNwAAMCQAAAVNBmnlJ4Q8mUwII//61KoAF\n",
       "cKgiQAN2RUyTSYm/+Rw2cYFuEi9hJ5I2zkcrmnfN4KFjkVG1ejGtr9qxU1P+V3yeM7GYcT+qR6Vh\n",
       "g7VymgzCXGgvelBMEUlUb/ZlGdaG+yaWP7bC/akA3kw3EhGUhLgBCKziHap20zumDXu6EXF8uCn0\n",
       "WNRKmcCS/g6PrE03BSFvqpwz2Nh4JQO/lC+cPqdomg5wF2bVZftRScYosS3174XPp/LQVflqLzat\n",
       "kjHjTVo2MYHkeoEdBjTQqtopmNeLQuSXFOg6EzjPyDsMsQyS2g8PXnd3BWqkJPpMkcmQz+VlkHtp\n",
       "CpkxTWHSmfHLYDZSyHnxRJ5t18y/y8H0maHKGDYKycHFsOya4Q2nn1dO34btpL/rfq/cPd3LB4v6\n",
       "tlOHB+6lwDmCuMfLh/mm5PTRAMq3TyQ/9+Snoud4yA9TLbwAAcEAAAIyQZqdSeEPJlMCCP/+tSqA\n",
       "BXCn9oALevPnoUqkcqObni/t+wIc7n8RE2uVr0lXyD5KbpRdfDG13XfbNiTU0P71FURyJ8aZWgUD\n",
       "hHzhwlTd4/flS3k7s550tTH0BMiAkj44Fs+pEwE4KPP7idpEsdg7Gx0sxC42w5VGqe42jP1fIveL\n",
       "SEH3h00LZ22sxO/693dCIZRswSI6v6k+QBK9MDGRHzSswiMfk4Hn+EyhQ6DzSmYOLJkDdr0/MMQm\n",
       "Nywy1/EVuimymP5N21GtsivYjxVCmQ39S/K4kUHrMCmTQrP7daTLeFSENLm7Efk29O6q9avgizfC\n",
       "QUiU6/9Dg7MHssXJGYKd2HpMOmbeOZiEvtVyKlCCf6OZcoSsj7XJnLHmct6BZ9PspJjFXisSI7cr\n",
       "RN868mmRpm373DSwATi3JdW94XDU2PagU5bfEtVy5GXnQzBoUqHk1gNlLSQOq0HyUatsj1wZ8Mp7\n",
       "rRX6zc/rBhXqOM4D5B1e8eXBJaw+G3Sdbks4P7Z4f6c1b89dGJ3OEDQB2MDcYB01w88S1Q/eRuC9\n",
       "icoXdwzz0S8YDZw/hb4sFC5j1Nf3xYoeeLzgIuaQfxw3urf/ZCt1H0FN+v7CjMDlflo68SB2M2h9\n",
       "CIR7MvvsNgPGsb835oNIXTs/DBDmZ+aQqcOiddCLvFYSZaFzOscFkQU9jLKnfeMJBkRxWsLPo7AD\n",
       "UJW74Fq94oRAR6SKitQgR6IH1wf5EP4b5lubhGP1BAABZQAAAE9BnrtFETw7/wALKxaZFrH4ATT0\n",
       "rAgsXjV9c98BdMSzoawEd02kEKtZZMOkng9JCgvc6DyBmLNTKMVTP++p+vIX1KERFwzO1v6RYD2C\n",
       "wCFgAAAAJQGe2nRDfwAPMDVrRRt9zrL1IKovOFPhWjsv8N9ubjH6IIAAIGEAAAAiAZ7cakN/AAfE\n",
       "ouWQUSHkjIhNfVbWzDgf05wAh6RvcRAEHQAAANJBmsFJqEFomUwIIf/+qlUACt+dPABdUqRGHarQ\n",
       "g9Rm4d/PZt/khdYvr1rsoInn8vHEm0MSHnproHtToZTqJol2eMYnsv+9ixXx5jwMmrEgXA0qrK5K\n",
       "3VwSJgophFTX/Ml6HF7e9p/Q4VN452+tRSdDy7Ev63NnrodxeBMDhOU1+ZkF+D1TRUkD/oaw4i6H\n",
       "5z69dj/XtjtNvqoVjlw3DRLjZjXAnC5lBoKZfFwWBuAgxh7NBNuPlKVdb1Aty/7U3Lb6ZGQYirJH\n",
       "Hur8XmchciDAAScAAAAkQZ7/RREsO/8ACuKwvQrQdgNxO/d0SLc101ZUCGZFjqBzgAYUAAAAGgGf\n",
       "HnRDfwAHw08WWixk+iEXLXis77y7APWBAAAAGwGfAGpDfwAPMURbral0IFFMijhPIQlqXqADAgAA\n",
       "AHBBmwVJqEFsmUwIf//+qZYAFcCYv26AEtVY4e1NdKfGGI0LeKkmwQ1wS2ONKV2RQiIMSf2iG0g5\n",
       "Yl/4dLPdgy4DIq5+8AFZ49wEJ7KYAF+kqfU9OdfL6LViGJ9QGN3PdgrVhMoSa93PnH5B8psEAC7h\n",
       "AAAAJkGfI0UVLDv/AAqZjXO3e5zc2U5hqzSE9KrqkXnRddmH9nhYALuAAAAAHQGfQnRDfwAPCpdP\n",
       "f9QyO5P19/f+RRSUi8McADKhAAAAHQGfRGpDfwAHxKIXEgOv3kBjI/cmltzfH8XMAH+BAAAAF0Gb\n",
       "R0moQWyZTBRMN//+p4QAAAMAACbhAAAAIAGfZmpDfwAHxUqwepvrWbQsuIEIhQKholue0W1gAFJB\n",
       "AAAEt21vb3YAAABsbXZoZAAAAAAAAAAAAAAAAAAAA+gAAA+gAAEAAAEAAAAAAAAAAAAAAAABAAAA\n",
       "AAAAAAAAAAAAAAAAAQAAAAAAAAAAAAAAAAAAQAAAAAAAAAAAAAAAAAAAAAAAAAAAAAAAAAAAAAAA\n",
       "AAIAAAPhdHJhawAAAFx0a2hkAAAAAwAAAAAAAAAAAAAAAQAAAAAAAA+gAAAAAAAAAAAAAAAAAAAA\n",
       "AAABAAAAAAAAAAAAAAAAAAAAAQAAAAAAAAAAAAAAAAAAQAAAAAH0AAABkAAAAAAAJGVkdHMAAAAc\n",
       "ZWxzdAAAAAAAAAABAAAPoAAACAAAAQAAAAADWW1kaWEAAAAgbWRoZAAAAAAAAAAAAAAAAAAAKAAA\n",
       "AKAAVcQAAAAAAC1oZGxyAAAAAAAAAAB2aWRlAAAAAAAAAAAAAAAAVmlkZW9IYW5kbGVyAAAAAwRt\n",
       "aW5mAAAAFHZtaGQAAAABAAAAAAAAAAAAAAAkZGluZgAAABxkcmVmAAAAAAAAAAEAAAAMdXJsIAAA\n",
       "AAEAAALEc3RibAAAALRzdHNkAAAAAAAAAAEAAACkYXZjMQAAAAAAAAABAAAAAAAAAAAAAAAAAAAA\n",
       "AAH0AZAASAAAAEgAAAAAAAAAAQAAAAAAAAAAAAAAAAAAAAAAAAAAAAAAAAAAAAAAAAAAABj//wAA\n",
       "ADJhdmNDAWQAFv/hABlnZAAWrNlAgDPn4QAAAwABAAADABQPFi2WAQAGaOvjyyLAAAAAHHV1aWRr\n",
       "aEDyXyRPxbo5pRvPAyPzAAAAAAAAABhzdHRzAAAAAAAAAAEAAAAoAAAEAAAAABRzdHNzAAAAAAAA\n",
       "AAEAAAABAAAA+GN0dHMAAAAAAAAAHQAAAAgAAAgAAAAAAQAAFAAAAAABAAAIAAAAAAEAAAAAAAAA\n",
       "AQAABAAAAAABAAAUAAAAAAEAAAgAAAAAAQAAAAAAAAABAAAEAAAAAAEAAAgAAAAAAQAAFAAAAAAB\n",
       "AAAIAAAAAAEAAAAAAAAAAQAABAAAAAAFAAAIAAAAAAEAABQAAAAAAQAACAAAAAABAAAAAAAAAAEA\n",
       "AAQAAAAAAQAAFAAAAAABAAAIAAAAAAEAAAAAAAAAAQAABAAAAAABAAAUAAAAAAEAAAgAAAAAAQAA\n",
       "AAAAAAABAAAEAAAAAAEAAAwAAAAAAQAABAAAAAAcc3RzYwAAAAAAAAABAAAAAQAAACgAAAABAAAA\n",
       "tHN0c3oAAAAAAAAAAAAAACgAABZoAAACLwAAAxoAAAQvAAABrgAAAeUAAAHpAAAB3wAABdYAAAFr\n",
       "AAAApwAAAUkAAARZAAACjgAAAccAAAFwAAADLgAABNQAAAGdAAABMAAAANMAAAH4AAACAQAAAbsA\n",
       "AAGVAAABVwAAAjYAAABTAAAAKQAAACYAAADWAAAAKAAAAB4AAAAfAAAAdAAAACoAAAAhAAAAIQAA\n",
       "ABsAAAAkAAAAFHN0Y28AAAAAAAAAAQAAACwAAABidWR0YQAAAFptZXRhAAAAAAAAACFoZGxyAAAA\n",
       "AAAAAABtZGlyYXBwbAAAAAAAAAAAAAAAAC1pbHN0AAAAJal0b28AAAAdZGF0YQAAAAEAAAAATGF2\n",
       "ZjU2LjQwLjEwMQ==\n",
       "\">\n",
       "  Your browser does not support the video tag.\n",
       "</video>"
      ],
      "text/plain": [
       "<matplotlib.animation.FuncAnimation at 0x7fdb19019c50>"
      ]
     },
     "execution_count": 14,
     "metadata": {},
     "output_type": "execute_result"
    }
   ],
   "source": [
    "ani"
   ]
  },
  {
   "cell_type": "code",
   "execution_count": null,
   "metadata": {
    "collapsed": true
   },
   "outputs": [],
   "source": []
  }
 ],
 "metadata": {
  "kernelspec": {
   "display_name": "Python [conda root]",
   "language": "python",
   "name": "conda-root-py"
  },
  "language_info": {
   "codemirror_mode": {
    "name": "ipython",
    "version": 2
   },
   "file_extension": ".py",
   "mimetype": "text/x-python",
   "name": "python",
   "nbconvert_exporter": "python",
   "pygments_lexer": "ipython2",
   "version": "2.7.13"
  }
 },
 "nbformat": 4,
 "nbformat_minor": 2
}
